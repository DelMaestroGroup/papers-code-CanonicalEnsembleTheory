{
 "cells": [
  {
   "cell_type": "markdown",
   "metadata": {},
   "source": [
    "# Visualize a Box Trap"
   ]
  },
  {
   "cell_type": "code",
   "execution_count": 11,
   "metadata": {},
   "outputs": [],
   "source": [
    "import numpy as np\n",
    "import matplotlib.pyplot as plt\n",
    "import matplotlib.colors as mplcolor\n",
    "\n",
    "import re,glob,os,sys\n",
    "import dgutils.colors as colortools\n",
    "from collections import defaultdict\n",
    "from vapory import *\n",
    "π = np.pi\n",
    "from PIL import Image\n",
    "\n",
    "\n",
    "%matplotlib inline\n",
    "%config InlineBackend.figure_format = 'svg'\n",
    "colors = plt.rcParams['axes.prop_cycle'].by_key()['color']\n",
    "\n",
    "included = [\"colors.inc\",\"textures.inc\",\"functions.inc\"]\n",
    "filename = \"../Figures/Summary/box_trap.png\""
   ]
  },
  {
   "cell_type": "markdown",
   "metadata": {},
   "source": [
    "## Setup colors and scene"
   ]
  },
  {
   "cell_type": "code",
   "execution_count": 12,
   "metadata": {},
   "outputs": [],
   "source": [
    "blue = mplcolor.to_rgb('#0073CD')\n",
    "blue = mplcolor.to_rgb('#006C93')\n",
    "grey = mplcolor.to_rgb('#9D9FAB')\n",
    "brown = mplcolor.to_rgb('#935C36')\n",
    "green = mplcolor.to_rgb('#15A05E')\n",
    "orange = mplcolor.to_rgb('#E65933')\n",
    "yellow = mplcolor.to_rgb('#EBEA64')\n",
    "smokey = mplcolor.to_rgb('#58595B')\n",
    "legacy = mplcolor.to_rgb('#579584')\n",
    "regalia = mplcolor.to_rgb('#754A7E')\n",
    "energy = mplcolor.to_rgb('#EE3E80')\n",
    "leconte = mplcolor.to_rgb('#8D2048')\n",
    "red = mplcolor.to_rgb('#8B0000')\n",
    "river = mplcolor.to_rgb('#517C96')"
   ]
  },
  {
   "cell_type": "code",
   "execution_count": 13,
   "metadata": {},
   "outputs": [],
   "source": [
    "L = np.array([20,20,20])\n",
    "\n",
    "cam = Camera('location',[25,5,-28],'look_at',[0,0,0])\n",
    "bg = Background(\"color\", \"White\",'transmit',1.0)\n",
    "lights = [LightSource([25,5,-28], 'color','White','shadowless')]\n",
    "lights.extend([LightSource([100,0,0], 'color','White')])\n",
    "lights.extend([LightSource([0,0,0], 'color','White shadowless')])\n",
    "lights.extend([LightSource([0,100,0], 'color','White')])\n",
    "\n",
    "col_atom = Texture(Finish('phong','0.0'),Pigment('color',blue,'transmit',0.0))\n",
    "\n",
    "col_boxg = Texture(Finish('phong','0.0'),Pigment('color',grey,'transmit',0.0))\n",
    "col_box = Texture(Finish('phong','0.0'),Pigment('color','White','transmit',0.4))\n",
    "col_boxr = Texture(Finish('phong','0.0'),Pigment('color','White','transmit',0.3))\n",
    "\n",
    "col_spin = Texture(Finish('phong','0.3'),Pigment('color',yellow,'transmit',0.0))\n",
    "\n",
    "col_level0 = Texture(Finish('phong','0.5'),Pigment('color',smokey,'transmit',0.0))\n",
    "col_levelp = Texture(Finish('phong','0.5'),Pigment('color',legacy,'transmit',0.0))\n",
    "col_levelm = Texture(Finish('phong','0.5'),Pigment('color',energy,'transmit',0.0))\n",
    "col_level = [col_levelm,col_level0,col_levelp]\n",
    "\n",
    "col_hot = Texture(Finish('phong','0.5'),Pigment('color',red,'transmit',0.3))\n",
    "col_cold = Texture(Finish('phong','0.5'),Pigment('color',river,'transmit',0.3))\n",
    "\n",
    "δ = 0.1"
   ]
  },
  {
   "cell_type": "markdown",
   "metadata": {},
   "source": [
    "## Draw the Box Trap"
   ]
  },
  {
   "cell_type": "code",
   "execution_count": 14,
   "metadata": {},
   "outputs": [],
   "source": [
    "# 4 separate panels\n",
    "#box = [Box([L[0]/2,-L[1]/2-δ,-L[2]/2],[L[0]/2+δ,L[1]/2+δ,L[2]/2],col_boxr)]\n",
    "#box.extend([Box([-L[0]/2-δ,-L[1]/2,-L[2]/2],[-L[0]/2,L[1]/2,L[2]/2],col_boxr)])\n",
    "#box.extend([Box([-L[0]/2-δ,-L[1]/2-δ,-L[2]/2],[L[0]/2+δ,-L[1]/2,L[2]/2],col_box)])\n",
    "#box.extend([Box([-L[0]/2-δ,L[1]/2,-L[2]/2],[L[0]/2+δ,L[1]/2+δ,L[2]/2],col_box)])\n",
    "#box.extend([Box([-L[0]/2-δ,-L[1]/2-δ,L[2]/2],[L[0]/2+δ,L[1]/2+δ,L[2]/2+δ],col_box)])\n",
    "\n",
    "box = [Box([-L[0]/2-δ,-L[1]/2-δ,-L[2]/2-δ],[L[0]/2+δ,L[1]/2+δ,L[2]/2+δ])]\n",
    "box.append(Box([-L[0]/2,-L[1]/2,-L[2]/2-2],[L[0]/2,L[1]/2,L[2]/2]))\n",
    "box = [Difference(*box,col_boxr)]"
   ]
  },
  {
   "cell_type": "markdown",
   "metadata": {},
   "source": [
    "## Fill With Particles"
   ]
  },
  {
   "cell_type": "code",
   "execution_count": 25,
   "metadata": {},
   "outputs": [],
   "source": [
    "r_core = 1\n",
    "num_particles = 250\n",
    "\n",
    "pos = []\n",
    "\n",
    "# add the initial particle\n",
    "pos.append(-0.5*L + r_core + (L-1.25*r_core)*np.random.random(3))\n",
    "\n",
    "num_inserted = len(pos)\n",
    "num_attempts = 0\n",
    "max_num_attempts = 1E6\n",
    "\n",
    "while num_inserted < num_particles and num_attempts < max_num_attempts:\n",
    "    num_attempts += 1\n",
    "    \n",
    "    trial_pos = -0.5*L + r_core + (L-1.25*r_core)*np.random.random(3)\n",
    "    \n",
    "    accept = True\n",
    "    for cpos in pos:\n",
    "        rsep = np.linalg.norm(trial_pos - cpos)\n",
    "        if rsep < 2*r_core:\n",
    "            accept = False\n",
    "            break\n",
    "    if accept:\n",
    "        pos.append(trial_pos)\n",
    "        num_inserted += 1\n",
    "        \n",
    "    if num_attempts == max_num_attempts:\n",
    "        print('Reached maximum number of attempts!')\n",
    "\n",
    "pos = np.array(pos)\n",
    "sphere = [Sphere(cpos, 0.35*r_core, col_atom) for cpos in pos]\n"
   ]
  },
  {
   "cell_type": "markdown",
   "metadata": {},
   "source": [
    "## Add the Spins"
   ]
  },
  {
   "cell_type": "code",
   "execution_count": 26,
   "metadata": {},
   "outputs": [],
   "source": [
    "cylinder = []\n",
    "cone = []\n",
    "for cpos in pos:\n",
    "    θ = 2*π*np.random.random()\n",
    "    ϕ = np.arccos(2*np.random.random()-1.0);\n",
    "    rspin = 0.55*r_core*np.array([np.sin(θ)*np.cos(ϕ),np.sin(θ)*np.sin(ϕ),np.cos(ϕ)])\n",
    "    if np.random.random() < 0.5:\n",
    "        direction = 1\n",
    "    else:\n",
    "        direction = -1\n",
    "    \n",
    "        \n",
    "    cylinder.append(Cylinder(cpos-rspin,cpos+rspin,0.07,col_spin))\n",
    "\n",
    "    \n",
    "    head_start = cpos + direction*rspin\n",
    "    head_end = cpos + direction*1.5*rspin\n",
    "        \n",
    "    cone.append(Cone(head_start,0.2,head_end,0.0,col_spin))"
   ]
  },
  {
   "cell_type": "markdown",
   "metadata": {},
   "source": [
    "## Add the energy levels\n",
    "\n",
    "Split up the degenerate states into subgroups"
   ]
  },
  {
   "cell_type": "code",
   "execution_count": 27,
   "metadata": {},
   "outputs": [],
   "source": [
    "from itertools import groupby\n",
    "ε = []\n",
    "for nx in range(1,4):\n",
    "    for ny in range(1,4):\n",
    "        for nz in range(1,4):\n",
    "            ε.append(nx**2 + ny**2 + nz**2)\n",
    "ε = np.sort(ε)[:17]-np.min(ε)\n",
    "ε = np.array(ε)/(np.max(ε)/11)\n",
    "ε_levels = [list(group) for key, group in groupby(ε)]\n",
    "\n",
    "levels = []\n",
    "δlevel = 0.2\n",
    "\n",
    "for clevel in ε_levels:\n",
    "    g = len(clevel)\n",
    "    Δ = 6/g\n",
    "    for j,cε in enumerate(clevel):\n",
    "        for i,δlevel in enumerate([-0.125,0,0.125]):\n",
    "            level_start = [L[0]/2+δ,-2.5+cε+δlevel,-L[2]/2+2+j*Δ]\n",
    "            level_end = [L[0]/2+δ,-2.5+cε+δlevel,-L[2]/2+2+(j+1)*Δ-2*δ]\n",
    "            levels.append(Cylinder(level_start,level_end,0.05,col_level[i]))"
   ]
  },
  {
   "cell_type": "markdown",
   "metadata": {},
   "source": [
    "### This is the old way, sufficient if we don't have degenerate levels"
   ]
  },
  {
   "cell_type": "code",
   "execution_count": 18,
   "metadata": {},
   "outputs": [],
   "source": [
    "# ε = []\n",
    "# eL = [np.sqrt(82),np.sqrt(120),np.sqrt(99)]\n",
    "# for nx in range(3):\n",
    "#     for ny in range(3):\n",
    "#         for nz in range(3):\n",
    "#             ε.append(nx**2/eL[0]**2 + ny**2/eL[1]**2 + nz**2/eL[2]**2)\n",
    "# ε = np.unique(ε)\n",
    "# ε = np.sort(ε)[:8]\n",
    "# ε /= (np.max(ε)/11)\n",
    "\n",
    "# levels = []\n",
    "# δlevel = 0.2\n",
    "# for cε in ε:\n",
    "#     for i,δlevel in enumerate([-0.125,0,0.125]):\n",
    "#         level_start = [L[0]/2+δ,-2.5+cε+δlevel,-L[2]/2+2]\n",
    "#         level_end = [L[0]/2+δ,-2.5+cε+δlevel,-L[2]/2+8]\n",
    "#         levels.append(Cylinder(level_start,level_end,0.05,col_level[i]))"
   ]
  },
  {
   "cell_type": "markdown",
   "metadata": {},
   "source": [
    "## The energy level axis"
   ]
  },
  {
   "cell_type": "code",
   "execution_count": 28,
   "metadata": {},
   "outputs": [],
   "source": [
    "axis = [Cylinder([L[0]/2+δ+0.0000,-2.5,-L[2]/2+1.5],[L[0]/2+δ+0.0000,9,-L[2]/2+1.5],0.05,col_level0)]\n",
    "axis.append(Cone([L[0]/2+δ+0.0000,9,-L[2]/2+1.5],0.2,[L[0]/2+δ+0.0000,9.5,-L[2]/2+1.5],0.0,col_level0))"
   ]
  },
  {
   "cell_type": "markdown",
   "metadata": {},
   "source": [
    "## Try to draw a thermometer"
   ]
  },
  {
   "cell_type": "code",
   "execution_count": 29,
   "metadata": {},
   "outputs": [],
   "source": [
    "therm = [Sphere([L[0]/2+δ+0.05,-1,4],0.6,col_hot)]\n",
    "therm.append(Cylinder([L[0]/2+δ+0.00,-1,4],[L[0]/2+δ+0.00,2,4],0.3,col_hot))\n",
    "therm.append(Cylinder([L[0]/2+δ+0.00,2,4],[L[0]/2+δ+0.00,8,4],0.3,col_cold))\n",
    "therm.append(Sphere([L[0]/2+δ+0.00,8,4],0.3,col_cold))\n",
    "\n",
    "therm = [Merge(*therm)]"
   ]
  },
  {
   "cell_type": "markdown",
   "metadata": {},
   "source": [
    "## Render the image"
   ]
  },
  {
   "cell_type": "code",
   "execution_count": 32,
   "metadata": {},
   "outputs": [],
   "source": [
    "obj = [bg] + lights + box + sphere + cylinder + cone + levels + axis + therm\n",
    "scene = Scene(camera=cam,objects=obj,included=included)\n",
    "#scene.render('ipython', width=400, height=200,remove_temp=False)\n",
    "\n",
    "size = 9600\n",
    "\n",
    "scene.render(filename, width=size, height=size,quality=11,antialiasing=0.2,output_alpha=True,\n",
    "             remove_temp=True)"
   ]
  },
  {
   "cell_type": "markdown",
   "metadata": {},
   "source": [
    "## Autocrop the image"
   ]
  },
  {
   "cell_type": "code",
   "execution_count": 34,
   "metadata": {},
   "outputs": [],
   "source": [
    "# autocrop the image\n",
    "Image.MAX_IMAGE_PIXELS = 1000000000                                                                                              \n",
    "image = Image.open(filename)\n",
    "cropped = image.crop(image.getbbox())\n",
    "cropped.save(filename)"
   ]
  },
  {
   "cell_type": "code",
   "execution_count": null,
   "metadata": {},
   "outputs": [],
   "source": []
  }
 ],
 "metadata": {
  "kernelspec": {
   "display_name": "Python 3",
   "language": "python",
   "name": "python3"
  },
  "language_info": {
   "codemirror_mode": {
    "name": "ipython",
    "version": 3
   },
   "file_extension": ".py",
   "mimetype": "text/x-python",
   "name": "python",
   "nbconvert_exporter": "python",
   "pygments_lexer": "ipython3",
   "version": "3.7.7"
  }
 },
 "nbformat": 4,
 "nbformat_minor": 4
}
