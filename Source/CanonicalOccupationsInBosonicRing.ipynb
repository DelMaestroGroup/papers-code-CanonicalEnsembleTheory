{
 "cells": [
  {
   "cell_type": "markdown",
   "metadata": {},
   "source": [
    "# Canonical occupations numbers and correlations for N bosons on a ring of L sites."
   ]
  },
  {
   "cell_type": "code",
   "execution_count": 1,
   "metadata": {
    "collapsed": false
   },
   "outputs": [],
   "source": [
    "import numpy as np\n",
    "import numpy.linalg as m\n",
    "import pickle"
   ]
  },
  {
   "cell_type": "code",
   "execution_count": 2,
   "metadata": {
    "collapsed": false
   },
   "outputs": [],
   "source": [
    "def SpectrumPO(Δ,L,h,S,deg,BC):\n",
    "    Nl=int((L)/2)\n",
    "    if BC=='pbc':\n",
    "        Size=Nl+1\n",
    "        f=2\n",
    "    if BC=='obc':\n",
    "        Size=L\n",
    "        f=1\n",
    "    St=2*S+1\n",
    "    ϵ=np.zeros((St,Size))\n",
    "    K=np.zeros(Size)\n",
    "    degeneracy=np.ones((St,Size))\n",
    "    for k in range(Size):\n",
    "        K[k]=f*(k+2-f)/L*np.pi\n",
    "        for s in range(St):\n",
    "            ϵ[s,k]=2*Δ*(1-np.cos(f*(k+2-f)/L*np.pi))-(s-2*S)*h\n",
    "            degeneracy[s,k]=deg\n",
    "    for s in range(St):\n",
    "        degeneracy[s,0]=1\n",
    "        if L/2==int(L/2) : \n",
    "            degeneracy[s,Nl]=1\n",
    "    return ϵ,K,degeneracy"
   ]
  },
  {
   "cell_type": "code",
   "execution_count": 3,
   "metadata": {
    "collapsed": true
   },
   "outputs": [],
   "source": [
    "def AXSpectrumPO(Δ,L,h,S,deg,BC,i,si,j,sj,kk,skk,three):\n",
    "    Nl=int((L)/2)\n",
    "    if BC=='pbc':\n",
    "        Size=Nl+1\n",
    "        f=2\n",
    "    if BC=='obc':\n",
    "        Size=L\n",
    "        f=1\n",
    "    St=2*S+1\n",
    "    ϵ=np.zeros((St,Size))\n",
    "    K=np.zeros(Size)\n",
    "    degeneracy=np.ones((St,Size))\n",
    "    for k in range(Size):\n",
    "        K[k]=f*(k+2-f)/L*np.pi\n",
    "        for s in range(St):\n",
    "            ϵ[s,k]=2*Δ*(1-np.cos(f*(k+2-f)/L*np.pi))-(s-S-S)*h\n",
    "            degeneracy[s,k]=deg\n",
    "    for s in range(St):\n",
    "        degeneracy[s,0]=1\n",
    "        if L/2==int(L/2) : \n",
    "            degeneracy[s,Nl]=1\n",
    "    degeneracy[S+si,abs(i)]-=1\n",
    "    degeneracy[S+sj,abs(j)]-=1\n",
    "    if (three =='three'):\n",
    "        degeneracy[S+skk,np.abs(kk)]-=1\n",
    "    return ϵ,K,degeneracy\n"
   ]
  },
  {
   "cell_type": "code",
   "execution_count": 4,
   "metadata": {
    "collapsed": false
   },
   "outputs": [],
   "source": [
    "def Afactor(β,N,L,ϵ,degeneracy,S):\n",
    "    St=2*S+1\n",
    "    A=np.zeros(N+1)\n",
    "    Nl=int((L)/2)\n",
    "    for i in range(1,N+1):\n",
    "        for k in range(Nl+1):\n",
    "            for s in range(St):\n",
    "                A[i]+=degeneracy[s,k]*np.exp(-1*β*ϵ[s,k]*i)\n",
    "    return A"
   ]
  },
  {
   "cell_type": "code",
   "execution_count": 5,
   "metadata": {
    "collapsed": true
   },
   "outputs": [],
   "source": [
    "def PartitionFunctions(A,N,rescaleF=1e+300):\n",
    "    rescaleC=0\n",
    "    Z=np.zeros(N+1)\n",
    "    Z[0]=1.0\n",
    "    for i in range(1,N+1):\n",
    "        for j in range(1,i+1):\n",
    "            Z[i]+=A[j]*Z[i-j]/i\n",
    "        if Z[i] > rescaleF:\n",
    "            rescaleC+=1\n",
    "            for k in range(i+1):\n",
    "                Z[k]=Z[k]/rescaleF\n",
    "    return Z,rescaleC                "
   ]
  },
  {
   "cell_type": "code",
   "execution_count": 6,
   "metadata": {
    "collapsed": false
   },
   "outputs": [],
   "source": [
    "def OccupNum(β,Z,ϵ,N,L,S):\n",
    "    St=2*S+1\n",
    "    Nl=int((L)/2)\n",
    "    n=np.zeros((St,L))\n",
    "    for i in range(1,N+1):\n",
    "        for j in range(Nl+1):\n",
    "            for s in range(St):\n",
    "                n[s,Nl+j]+=np.exp(-1*β*ϵ[s,j]*i)*Z[N-i]/Z[N]\n",
    "    for j in range(Nl+1):\n",
    "        for s in range(St):\n",
    "            n[s,L-1-(Nl+j)]=n[s,Nl+j]\n",
    "    return n               "
   ]
  },
  {
   "cell_type": "code",
   "execution_count": 7,
   "metadata": {
    "collapsed": false
   },
   "outputs": [],
   "source": [
    "def ProbPB(L,N,Δ,h,S,deg,β,BC,i1,si1,j1,sj1,k1,sk1,three):\n",
    "    ϵ_AX,K_AX,degeneracy_AX=AXSpectrumPO(Δ,L,h,S,deg,BC,i1,si1,j1,sj1,k1,sk1,three)\n",
    "    AX_A=Afactor(β,N,L,ϵ_AX,degeneracy_AX,S)\n",
    "    AX_Z,counter=PartitionFunctions(AX_A,N)\n",
    "    #print('counterAX=',counter)\n",
    "    ϵ,K,degeneracy=SpectrumPO(Δ,L,h,S,deg,BC)\n",
    "    A=Afactor(β,N,L,ϵ,degeneracy,S)\n",
    "    Z,counter=PartitionFunctions(A,N)\n",
    "    #print('counter=',counter)\n",
    "    prob=np.zeros((N+1,N+1))\n",
    "    for i in range(0,N+1):\n",
    "        for j in range(0,N+1):\n",
    "            Nt=i+j\n",
    "            if (Nt<N+1):\n",
    "                prob[i,j]=np.exp(-1*β*(ϵ[si1+S,abs(i1)]*i+ϵ[sj1+S,abs(j1)]*j))*AX_Z[N-Nt]/Z[N]\n",
    "            else:\n",
    "                prob[i,j]=-1.0\n",
    "    return prob"
   ]
  },
  {
   "cell_type": "code",
   "execution_count": 8,
   "metadata": {
    "collapsed": true
   },
   "outputs": [],
   "source": [
    "def nSquared(β,n,Z,ϵ,N,L,S):\n",
    "    St=2*S+1\n",
    "    Nl=int((L)/2)\n",
    "    n2=np.zeros((St,L))\n",
    "    for s in range(St):\n",
    "        for j in range(Nl+1):\n",
    "            for i in range(2,N+1):\n",
    "                n2[s,Nl+j]+=(i-1)*np.exp(-1*β*ϵ[s,j]*i)*Z[N-i]/Z[N]\n",
    "            n2[s,Nl+j]=2*n2[s,Nl+j]+n[s,Nl+j]\n",
    "    for s in range(St):\n",
    "        for j in range(Nl+1):\n",
    "            n2[s,L-1-(Nl+j)]=n2[s,Nl+j]\n",
    "    return n2               "
   ]
  },
  {
   "cell_type": "code",
   "execution_count": 9,
   "metadata": {
    "collapsed": false
   },
   "outputs": [],
   "source": [
    "# ninj=<n_in_j>, corr_ninj=<n_in_j>-<n_i><n_j> for i<>j and ϵ_i<>ϵ_j\n",
    "def Correlations(s1,s2,S,β,ϵ,Z,n,N,L,h):\n",
    "    St=2*S+1\n",
    "    s1=s1+S\n",
    "    s2=s2+S\n",
    "    Nl=int((L)/2)\n",
    "    σ2j=np.zeros(L)\n",
    "    corr_ninj=np.zeros((L,L))\n",
    "    ninj=np.zeros((L,L))    \n",
    "    ni_nj=np.zeros((L,L))  \n",
    "#First-quarter\n",
    "    for i in range(0,Nl):\n",
    "#--------upper triangle\n",
    "        for j in range(i+1,Nl+1):\n",
    "            corr_ninj[Nl+i,Nl+j]=-1*(np.exp(-1*β*(ϵ[s2,j]-ϵ[s1,i]))*n[s1,Nl+i]*(1+n[s2,Nl+j])-n[s2,Nl+j]*(1+n[s1,Nl+i]))/(np.exp(-1*β*(ϵ[s2,j]-ϵ[s1,i]))-1)\n",
    "            ninj[Nl+i,Nl+j]=-1*(np.exp(-1*β*(ϵ[s2,j]-ϵ[s1,i]))*n[s1,Nl+i]-n[s2,Nl+j])/(np.exp(-1*β*(ϵ[s2,j]-ϵ[s1,i]))-1)\n",
    "#--------lower triangle\n",
    "        for j in range(i+1,Nl+1):\n",
    "            if (abs(h)<1e-16):\n",
    "                corr_ninj[Nl+j,Nl+i]=corr_ninj[Nl+i,Nl+j]\n",
    "                ninj[Nl+j,Nl+i]=ninj[Nl+i,Nl+j]\n",
    "            else:\n",
    "                corr_ninj[Nl+j,Nl+i]=-1*(np.exp(-1*β*(ϵ[s2,i]-ϵ[s1,j]))*n[s1,Nl+j]*(1+n[s2,Nl+i])-n[s2,Nl+i]*(1+n[s1,Nl+j]))/(np.exp(-1*β*(ϵ[s2,i]-ϵ[s1,j]))-1)\n",
    "                ninj[Nl+j,Nl+i]=-1*(np.exp(-1*β*(ϵ[s2,i]-ϵ[s1,j]))*n[s1,Nl+j]-n[s2,Nl+i])/(np.exp(-1*β*(ϵ[s2,i]-ϵ[s1,j]))-1)\n",
    "#    if (s1 != s2):\n",
    "    if (abs(h)<1e-16)|(s1 == s2):\n",
    "        for j in range(0,Nl+1):\n",
    "            for i in range(2,N+1):\n",
    "                ninj[Nl+j,Nl+j]+=(i-1)*np.exp(-1*β*ϵ[s2,j]*i)*Z[N-i]/Z[N]\n",
    "            corr_ninj[Nl+j,Nl+j]=ninj[Nl+j,Nl+j]-n[s1,Nl+j]*n[s2,Nl+j]\n",
    "    else:\n",
    "        for j in range(0,Nl+1):\n",
    "            ninj[Nl+j,Nl+j]=-1*(np.exp(-1*β*(ϵ[s2,j]-ϵ[s1,j]))*n[s1,Nl+j]-n[s2,Nl+j])/(np.exp(-1*β*(ϵ[s2,j]-ϵ[s1,j]))-1)\n",
    "            corr_ninj[Nl+j,Nl+j]=-1*(np.exp(-1*β*(ϵ[s2,j]-ϵ[s1,j]))*n[s1,Nl+j]*(1+n[s2,Nl+j])-n[s2,Nl+j]*(1+n[s1,Nl+j]))/(np.exp(-1*β*(ϵ[s2,j]-ϵ[s1,j]))-1)\n",
    "#-copying First-quarter to all other quarters            \n",
    "    for i in range(0,Nl+1):\n",
    "        for j in range(0,Nl+1):\n",
    "            corr_ninj[L-1-(Nl+i),L-1-(Nl+j)]=corr_ninj[Nl+i,Nl+j]\n",
    "            corr_ninj[(Nl+i),L-1-(Nl+j)]=corr_ninj[Nl+i,Nl+j]\n",
    "            corr_ninj[L-1-(Nl+i),(Nl+j)]=corr_ninj[Nl+i,Nl+j]\n",
    "            ninj[L-1-(Nl+i),L-1-(Nl+j)]=ninj[Nl+i,Nl+j]\n",
    "            ninj[(Nl+i),L-1-(Nl+j)]=ninj[Nl+i,Nl+j]\n",
    "            ninj[L-1-(Nl+i),(Nl+j)]=ninj[Nl+i,Nl+j]\n",
    "            \n",
    "#fixing trailing diagonal in the first-quarter\n",
    "    for j in range(1,Nl+1):\n",
    "        ninj[L-1-(Nl+j),Nl+j]=0\n",
    "        corr_ninj[L-1-(Nl+j),Nl+j]=0\n",
    "    if (abs(h)<1e-16)|(s1 == s2):\n",
    "        for j in range(1,Nl+1):\n",
    "            for i in range(2,N+1):\n",
    "                ninj[L-1-(Nl+j),Nl+j]+=(i-1)*np.exp(-1*β*ϵ[s2,j]*i)*Z[N-i]/Z[N]\n",
    "            corr_ninj[L-1-(Nl+j),Nl+j]=ninj[L-1-(Nl+j),Nl+j]-n[s1,L-1-(Nl+j)]*n[s2,Nl+j]\n",
    "    else:\n",
    "        for j in range(1,Nl+1):\n",
    "            ninj[L-1-(Nl+j),Nl+j]=-1*(np.exp(-1*β*(ϵ[s2,j]-ϵ[s1,j]))*n[s1,L-1-(Nl+j)]-n[s2,Nl+j])/(np.exp(-1*β*(ϵ[s2,j]-ϵ[s1,j]))-1)\n",
    "            corr_ninj[L-1-(Nl+j),Nl+j]=-1*(np.exp(-1*β*(ϵ[s2,j]-ϵ[s1,j]))*n[s1,L-1-(Nl+j)]*(1+n[s2,Nl+j])-n[s2,Nl+j]*(1+n[s1,L-1-(Nl+j)]))/(np.exp(-1*β*(ϵ[s2,j]-ϵ[s1,j]))-1)\n",
    "            \n",
    "#copying trailing diagonal to theopposite quarter\n",
    "     \n",
    "    for j in range(0,Nl+1):\n",
    "        ninj[Nl+j,L-1-(Nl+j)]=ninj[L-1-(Nl+j),Nl+j] \n",
    "        corr_ninj[Nl+j,L-1-(Nl+j)]=corr_ninj[L-1-(Nl+j),Nl+j] \n",
    "        \n",
    "    for i in range(L):\n",
    "        for j in range(L):\n",
    "            ni_nj[i,j]=n[s1,i]*n[s2,j]\n",
    "    return ninj,corr_ninj,ni_nj "
   ]
  },
  {
   "cell_type": "code",
   "execution_count": 10,
   "metadata": {
    "collapsed": false
   },
   "outputs": [],
   "source": [
    "def CorrPB(s1,s2,L,N,Δ,h,S,deg,β,BC):\n",
    "    ϵ,K,degeneracy=SpectrumPO(Δ,L,h,S,deg,BC)\n",
    "    A=Afactor(β,N,L,ϵ,degeneracy,S)\n",
    "    Z,counter=PartitionFunctions(A,N)\n",
    "    n=OccupNum(β,Z,ϵ,N,L,S)\n",
    "    ninj,corr_ninj,ni_nj=Correlations(s1,s2,S,β,ϵ,Z,n,N,L,h)\n",
    "    #print('counter=',counter)\n",
    "    return  corr_ninj,ninj,ni_nj,n              "
   ]
  },
  {
   "cell_type": "code",
   "execution_count": 11,
   "metadata": {
    "collapsed": false
   },
   "outputs": [],
   "source": [
    "def Corr4(ϵj,nj,β):\n",
    "    A=np.zeros((4,4))\n",
    "    for i in range(4):\n",
    "        for j in range(4):\n",
    "            A[j,i]=np.exp(-i*ϵj[j]*β)\n",
    "    Det1=m.det(A)\n",
    "    for j in range(4):\n",
    "        A[j,0]=nj[j]\n",
    "    Det2=m.det(A)\n",
    "    return  -Det2/Det1              "
   ]
  },
  {
   "cell_type": "code",
   "execution_count": 12,
   "metadata": {
    "collapsed": false
   },
   "outputs": [],
   "source": [
    "def Corr4d(ϵj,nj,β):\n",
    "    A=np.zeros((4,4))\n",
    "    for i in range(1,4):\n",
    "        A[0,i]=np.exp(-i*ϵj[0]*β)\n",
    "    for i in range(1,4):\n",
    "        A[1,i]=np.exp(-i*ϵj[1]*β)\n",
    "    for i in range(2,4):\n",
    "        A[2,i]=(i-1)*np.exp(-i*ϵj[1]*β)\n",
    "    for i in range(3,4):\n",
    "        A[3,i]=(i-1)*(i-2)/2*np.exp(-i*ϵj[1]*β)\n",
    "\n",
    "    for j in range(4):\n",
    "        A[j,0]=1.0\n",
    "    A[2,0]=-1.0\n",
    "    Det1=m.det(A)\n",
    "    for j in range(4):\n",
    "        A[j,0]=nj[j]\n",
    "    Det2=m.det(A)\n",
    "    return  (-Det2/Det1) \n"
   ]
  },
  {
   "cell_type": "code",
   "execution_count": 13,
   "metadata": {
    "collapsed": false
   },
   "outputs": [],
   "source": [
    "def Corr4d2(ϵj,nj,β,s1):\n",
    "    A=np.zeros((4,4))\n",
    "    for i in range(4):\n",
    "        for j in range(4):\n",
    "            A[j,i]=np.exp(-i*ϵj[j]*β)\n",
    "\n",
    "    A[s1+1,1]=0.0        \n",
    "    for i in range(2,4):\n",
    "        A[s1+1,i]=(i-1)*np.exp(-i*ϵj[0]*β)        \n",
    "        \n",
    "    for j in range(4):\n",
    "        A[j,0]=1.0\n",
    "    A[s1+1,0]=-1.0\n",
    "    Det1=m.det(A)\n",
    "    for j in range(4):\n",
    "        A[j,0]=nj[j]\n",
    "    Det2=m.det(A)\n",
    "    return  (-Det2/Det1) \n"
   ]
  },
  {
   "cell_type": "code",
   "execution_count": 14,
   "metadata": {
    "collapsed": false
   },
   "outputs": [],
   "source": [
    "# <n_{i,s1}n_{j,1}n_{j,0}n_{j,-1}>\n",
    "def Correlations_4p(s1,s2,S,β,ϵ,Z,n,N,L,h):\n",
    "    ϵj=np.zeros(4)\n",
    "    nj=np.zeros(4)\n",
    "    n1dotsn4=np.zeros((L,L))\n",
    "    ni_nj=np.zeros((L,L))  \n",
    "    St=2*S+1\n",
    "    s1=s1+S\n",
    "    s2=s2+S\n",
    "    Nl=int((L)/2)\n",
    "#First-quarter\n",
    "    if (abs(h)<1e-16):\n",
    "        for i in range(0,Nl):\n",
    "#-----------upper triangle\n",
    "            for j in range(i+1,Nl+1):\n",
    "                ϵj[0]=ϵ[s1,i]\n",
    "                ϵj[1]=ϵ[0,j]\n",
    "                ϵj[2]=ϵ[1,j]\n",
    "                ϵj[3]=ϵ[2,j]\n",
    "                nj[0]=n[s1,Nl+i]\n",
    "                nj[1]=n[0,Nl+j]\n",
    "                nj[2]=0.0\n",
    "                for m in range(2,N+1):\n",
    "                    nj[2]+=(m-1)*np.exp(-1*β*ϵ[s2,j]*m)*Z[N-m]/Z[N]\n",
    "                nj[3]=0.0\n",
    "                for m in range(3,N+1):\n",
    "                    nj[3]+=(m-1)*(m-2)/2.0*np.exp(-1*β*ϵ[s2,j]*m)*Z[N-m]/Z[N]\n",
    "                n1dotsn4[Nl+i,Nl+j]=Corr4d(ϵj,nj,β)\n",
    "        for i in range(1,Nl+1):\n",
    "#-----------lower triangle\n",
    "            for j in range(0,i):\n",
    "                ϵj[0]=ϵ[s1,i]\n",
    "                ϵj[1]=ϵ[0,j]\n",
    "                ϵj[2]=ϵ[1,j]\n",
    "                ϵj[3]=ϵ[2,j]\n",
    "                nj[0]=n[s1,Nl+i]\n",
    "                nj[1]=n[0,Nl+j]\n",
    "                nj[2]=0.0\n",
    "                for m in range(2,N+1):\n",
    "                    nj[2]+=(m-1)*np.exp(-1*β*ϵ[0,j]*m)*Z[N-m]/Z[N]\n",
    "                nj[3]=0.0\n",
    "                for m in range(3,N+1):\n",
    "                    nj[3]+=(m-1)*(m-2)/2.0*np.exp(-1*β*ϵ[0,j]*m)*Z[N-m]/Z[N]\n",
    "                n1dotsn4[Nl+i,Nl+j]=Corr4d(ϵj,nj,β)\n",
    "    else:              \n",
    "        for i in range(0,Nl):\n",
    "#-----------upper triangle\n",
    "            for j in range(i+1,Nl+1):\n",
    "                ϵj[0]=ϵ[s1,i]\n",
    "                ϵj[1]=ϵ[0,j]\n",
    "                ϵj[2]=ϵ[1,j]\n",
    "                ϵj[3]=ϵ[2,j]\n",
    "                nj[0]=n[s1,Nl+i]\n",
    "                nj[1]=n[0,Nl+j]\n",
    "                nj[2]=n[1,Nl+j]\n",
    "                nj[3]=n[2,Nl+j]\n",
    "                n1dotsn4[Nl+i,Nl+j]=Corr4(ϵj,nj,β)\n",
    "        for i in range(1,Nl+1):\n",
    "#-----------lower triangle\n",
    "            for j in range(0,i):\n",
    "                ϵj[0]=ϵ[s1,i]\n",
    "                ϵj[1]=ϵ[0,j]\n",
    "                ϵj[2]=ϵ[1,j]\n",
    "                ϵj[3]=ϵ[2,j]\n",
    "                nj[0]=n[s1,Nl+i]\n",
    "                nj[1]=n[0,Nl+j]\n",
    "                nj[2]=n[1,Nl+j]\n",
    "                nj[3]=n[2,Nl+j]\n",
    "                n1dotsn4[Nl+i,Nl+j]=Corr4(ϵj,nj,β)\n",
    "            \n",
    "    if (abs(h)<1e-16):\n",
    "    \n",
    "    \n",
    "        for j in range(0,Nl+1):\n",
    "            for i in range(4,N+1):\n",
    "                n1dotsn4[Nl+j,Nl+j]+=(i-1)*(i-2)*(i-3)/6*np.exp(-1*β*ϵ[s2,j]*i)*Z[N-i]/Z[N]\n",
    "            \n",
    "    else:\n",
    "        for j in range(0,Nl+1):\n",
    "            ϵj[0]=ϵ[s1,j]\n",
    "            ϵj[1]=ϵ[0,j]\n",
    "            ϵj[2]=ϵ[1,j]\n",
    "            ϵj[3]=ϵ[2,j]\n",
    "            nj[0]=n[s1,Nl+j]\n",
    "            nj[1]=n[0,Nl+j]\n",
    "            nj[2]=n[1,Nl+j]\n",
    "            nj[3]=n[2,Nl+j]\n",
    "            nj[s1+1]=0.0\n",
    "            for m in range(2,N+1):\n",
    "                nj[s1+1]+=(m-1)*np.exp(-1*β*ϵ[s1,j]*m)*Z[N-m]/Z[N]\n",
    "            n1dotsn4[Nl+j,Nl+j]=Corr4d2(ϵj,nj,β,s1)\n",
    "#-copying First-quarter to all other quarters          \n",
    "    for i in range(0,Nl+1):\n",
    "        for j in range(0,Nl+1):\n",
    "            n1dotsn4[L-1-(Nl+i),L-1-(Nl+j)]=n1dotsn4[Nl+i,Nl+j]\n",
    "            n1dotsn4[(Nl+i),L-1-(Nl+j)]=n1dotsn4[Nl+i,Nl+j]\n",
    "            n1dotsn4[L-1-(Nl+i),(Nl+j)]=n1dotsn4[Nl+i,Nl+j]\n",
    "                  \n",
    "    for i in range(L):\n",
    "        for j in range(L):\n",
    "            ni_nj[i,j]=n[s1,i]*n[0,j]*n[1,j]*n[2,j]\n",
    "    return n1dotsn4,ni_nj "
   ]
  },
  {
   "cell_type": "markdown",
   "metadata": {},
   "source": [
    "# Parameters"
   ]
  },
  {
   "cell_type": "code",
   "execution_count": 15,
   "metadata": {
    "collapsed": false
   },
   "outputs": [],
   "source": [
    "β=np.array([1.0,100.0]) # inverse temperature\n",
    "Δ=np.ones(len(β)) # energy levels separation"
   ]
  },
  {
   "cell_type": "markdown",
   "metadata": {},
   "source": [
    "# Joint probability distributions"
   ]
  },
  {
   "cell_type": "code",
   "execution_count": 16,
   "metadata": {
    "collapsed": false
   },
   "outputs": [],
   "source": [
    "c=1\n",
    "deg=2\n",
    "L=1001\n",
    "N=1000\n",
    "Nl=int((L)/2)\n",
    "\n",
    "S=0\n",
    "h=0.0\n",
    "\n",
    "i1=0\n",
    "j1=1\n",
    "k1=1\n",
    "\n",
    "si1=0\n",
    "sj1=0\n",
    "sk1=0\n",
    "\n",
    "prob2=ProbPB(L,N,Δ[c],h,S,deg,β[c],'pbc',i1,si1,j1,sj1,k1,sk1,'two')\n",
    "prob3=ProbPB(L,N,Δ[c],h,S,deg,β[c],'pbc',i1,si1,j1,sj1,k1,sk1,'three')"
   ]
  },
  {
   "cell_type": "code",
   "execution_count": 17,
   "metadata": {
    "collapsed": true
   },
   "outputs": [],
   "source": [
    "structure = {'prob2F':prob2,'prob3F':prob3,'NF':N,'LF':L,'betaF':β[c],'tF':Δ[c],'hF':h}\n",
    "\n",
    "with open('../Data/probability.pickle', 'wb') as pfile:\n",
    "    pickle.dump(structure, pfile, pickle.HIGHEST_PROTOCOL)"
   ]
  },
  {
   "cell_type": "markdown",
   "metadata": {},
   "source": [
    "# Spin-zero two-point correlations"
   ]
  },
  {
   "cell_type": "code",
   "execution_count": 18,
   "metadata": {
    "collapsed": false
   },
   "outputs": [],
   "source": [
    "c=0\n",
    "deg=2\n",
    "L=1001\n",
    "N=1000 \n",
    "Nl=int((L)/2)\n",
    "\n",
    "S=0\n",
    "s1=0\n",
    "s2=0\n",
    "h=0.0\n",
    "\n",
    "corr_ninj0p,ninj0p,ni_nj0p,n0p=CorrPB(s1,s2,L,N,Δ[c],h,S,deg,β[c],'pbc')"
   ]
  },
  {
   "cell_type": "code",
   "execution_count": 19,
   "metadata": {
    "collapsed": false
   },
   "outputs": [],
   "source": [
    "structure = {'corr_ninj0pF':corr_ninj0p,'NF':N,'LF':L,'betaF':β[c],'tF':Δ[c],'hF':h}\n",
    "\n",
    "with open('../Data/CorrSpin0L1001N1000tbeta1.pickle', 'wb') as pfile:\n",
    "    pickle.dump(structure, pfile, pickle.HIGHEST_PROTOCOL)"
   ]
  },
  {
   "cell_type": "markdown",
   "metadata": {},
   "source": [
    "# Spin-one two-point correlations"
   ]
  },
  {
   "cell_type": "code",
   "execution_count": 20,
   "metadata": {
    "collapsed": false
   },
   "outputs": [],
   "source": [
    "c=0\n",
    "deg=2\n",
    "L=1001\n",
    "N=1000\n",
    "Nl=int((L)/2)\n",
    "\n",
    "S=1\n",
    "s1=1\n",
    "s2=1\n",
    "h=0.0\n",
    "corr_ninj1,ninj1,ni_nj1,n1=CorrPB(s1,s2,L,N,Δ[c],h,S,deg,β[c],'pbc')\n",
    "\n",
    "S=1\n",
    "s1=1\n",
    "s2=1\n",
    "h=5.0\n",
    "corr_ninj1h11,ninj1h11,ni_nj1h11,n1h11=CorrPB(s1,s2,L,N,Δ[c],h,S,deg,β[c],'pbc')\n",
    "\n",
    "S=1\n",
    "s1=1\n",
    "s2=0\n",
    "h=5.0\n",
    "corr_ninj1h10,ninj1h10,ni_nj1h10,n1h10=CorrPB(s1,s2,L,N,Δ[c],h,S,deg,β[c],'pbc')\n",
    "\n",
    "S=1\n",
    "s1=0\n",
    "s2=-1\n",
    "h=5.0\n",
    "corr_ninj1h1neg1,ninj1h1neg1,ni_nj1h1neg1,n1h1neg1=CorrPB(s1,s2,L,N,Δ[c],h,S,deg,β[c],'pbc')"
   ]
  },
  {
   "cell_type": "code",
   "execution_count": 21,
   "metadata": {
    "collapsed": true
   },
   "outputs": [],
   "source": [
    "structure = {'corr_ninj1F':corr_ninj1,'NF':N,'LF':L,'betaF':β[c],'tF':Δ[c],'hF':h}\n",
    "\n",
    "with open('../Data/CorrSpin1L1001N1000tbeta1h0.pickle', 'wb') as pfile:\n",
    "    pickle.dump(structure, pfile, pickle.HIGHEST_PROTOCOL)"
   ]
  },
  {
   "cell_type": "code",
   "execution_count": 22,
   "metadata": {
    "collapsed": true
   },
   "outputs": [],
   "source": [
    "structure = {'corr_ninj1h11F':corr_ninj1h11,'NF':N,'LF':L,'betaF':β[c],'tF':Δ[c],'hF':h}\n",
    "\n",
    "with open('../Data/CorrSpin1L1001N1000tbeta1h5s1s1.pickle', 'wb') as pfile:\n",
    "    pickle.dump(structure, pfile, pickle.HIGHEST_PROTOCOL)"
   ]
  },
  {
   "cell_type": "code",
   "execution_count": 23,
   "metadata": {
    "collapsed": true
   },
   "outputs": [],
   "source": [
    "structure = {'corr_ninj1h10F':corr_ninj1h10,'NF':N,'LF':L,'betaF':β[c],'tF':Δ[c],'hF':h}\n",
    "\n",
    "with open('../Data/CorrSpin1L1001N1000tbeta1h5s1s0.pickle', 'wb') as pfile:\n",
    "    pickle.dump(structure, pfile, pickle.HIGHEST_PROTOCOL)"
   ]
  },
  {
   "cell_type": "code",
   "execution_count": 24,
   "metadata": {
    "collapsed": true
   },
   "outputs": [],
   "source": [
    "structure = {'corr_ninj1h1neg1F':corr_ninj1h1neg1,'NF':N,'LF':L,'betaF':β[c],'tF':Δ[c],'hF':h}\n",
    "\n",
    "with open('../Data/CorrSpin1L1001N1000tbeta1h5s1s-1.pickle', 'wb') as pfile:\n",
    "    pickle.dump(structure, pfile, pickle.HIGHEST_PROTOCOL)"
   ]
  },
  {
   "cell_type": "markdown",
   "metadata": {},
   "source": [
    "# Spin-one four-point correlations"
   ]
  },
  {
   "cell_type": "code",
   "execution_count": 25,
   "metadata": {
    "collapsed": false
   },
   "outputs": [],
   "source": [
    "c=0\n",
    "deg=2\n",
    "L=1001\n",
    "N=1000\n",
    "Nl=int((L)/2)\n",
    "\n",
    "S=1\n",
    "s1=1\n",
    "s2=1\n",
    "h=0.0\n",
    "\n",
    "ϵ,K,degeneracy=SpectrumPO(Δ[c],L,h,S,deg,'pbc')\n",
    "A=Afactor(β[c],N,L,ϵ,degeneracy,S)\n",
    "Z,counter=PartitionFunctions(A,N)\n",
    "n=OccupNum(β[c],Z,ϵ,N,L,S)\n",
    "corr0,ni_nj0=Correlations_4p(s1,s2,S,β[c],ϵ,Z,n,N,L,h)"
   ]
  },
  {
   "cell_type": "code",
   "execution_count": 26,
   "metadata": {
    "collapsed": false
   },
   "outputs": [],
   "source": [
    "structure = {'corr0F':corr0,'NF':N,'LF':L,'betaF':β[c],'tF':Δ[c],'hF':h}\n",
    "\n",
    "with open('../Data/CorrSpin1L1001N1000tbeta1_4pointst.pickle', 'wb') as pfile:\n",
    "    pickle.dump(structure, pfile, pickle.HIGHEST_PROTOCOL)"
   ]
  }
 ],
 "metadata": {
  "kernelspec": {
   "display_name": "Python 3",
   "language": "python",
   "name": "python3"
  },
  "language_info": {
   "codemirror_mode": {
    "name": "ipython",
    "version": 3
   },
   "file_extension": ".py",
   "mimetype": "text/x-python",
   "name": "python",
   "nbconvert_exporter": "python",
   "pygments_lexer": "ipython3",
   "version": "3.6.0"
  }
 },
 "nbformat": 4,
 "nbformat_minor": 2
}
