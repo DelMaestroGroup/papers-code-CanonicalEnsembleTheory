{
 "cells": [
  {
   "cell_type": "markdown",
   "metadata": {},
   "source": [
    "# Joint probability distributions"
   ]
  },
  {
   "cell_type": "code",
   "execution_count": 1,
   "metadata": {
    "collapsed": true
   },
   "outputs": [],
   "source": [
    "import numpy as np\n",
    "import matplotlib.pyplot as plt\n",
    "import pickle\n",
    "#%matplotlib inline"
   ]
  },
  {
   "cell_type": "markdown",
   "metadata": {},
   "source": [
    "Load data"
   ]
  },
  {
   "cell_type": "code",
   "execution_count": 2,
   "metadata": {
    "collapsed": true
   },
   "outputs": [],
   "source": [
    "with open('../../Data/probability.pickle', 'rb') as pfile:\n",
    "    structure = pickle.load(pfile)\n",
    "\n",
    "prob2=structure['prob2F']\n",
    "prob3=structure['prob3F']\n",
    "N=structure['NF']\n",
    "L=structure['LF']\n",
    "h=structure['hF']"
   ]
  },
  {
   "cell_type": "markdown",
   "metadata": {},
   "source": [
    "Generate the figure"
   ]
  },
  {
   "cell_type": "code",
   "execution_count": 3,
   "metadata": {
    "collapsed": false
   },
   "outputs": [
    {
     "data": {
      "image/png": "[encoded data removed]",
      "text/plain": [
       "<matplotlib.figure.Figure at 0x10ce65940>"
      ]
     },
     "metadata": {},
     "output_type": "display_data"
    }
   ],
   "source": [
    "with plt.style.context('../aps1.mplstyle'):\n",
    "    Index=np.arange(0,N+1) \n",
    "    fig1, ax1 = plt.subplots(1,2,figsize=[246.0*1.0/72.27,246.0*1.0/72.27/1.7])\n",
    "\n",
    "    prob2Masked=np.ma.masked_where(prob2<-0.5,prob2)\n",
    "    prob3Masked=np.ma.masked_where(prob3<-0.5,prob3)\n",
    "    \n",
    "    im1 = ax1[0].pcolormesh(Index,Index,prob2Masked,rasterized=True)\n",
    "    im2 = ax1[1].pcolormesh(Index,Index,prob3Masked,rasterized=True,)\n",
    "\n",
    "\n",
    "    cb0 = fig1.colorbar(im1,ax=ax1[0],ticks=[0.0, 4.0e-6, 8.0e-6],pad=0.024,orientation=\"horizontal\")\n",
    "    cb0.ax.set_xticklabels(['0', r'$4\\!\\times\\!\\!10^{-6}$',r'$8\\!\\times\\!\\!10^{-6}$'])\n",
    "    cb1 = fig1.colorbar(im2,ax=ax1[1],ticks=[0, 4.0e-8, 8.0e-8],pad=0.024,orientation=\"horizontal\")\n",
    "    cb1.ax.set_xticklabels(['0', r'$4\\!\\times\\!\\!10^{-8}$', r'$8\\!\\times\\!\\!10^{-8}$']) \n",
    "\n",
    "    #prob2 x-axis parameters\n",
    "    ax1[0].tick_params(axis='x', which='bottom', length=0)\n",
    "    ax1[0].tick_params(axis='x', labelbottom=\"off\", labeltop=\"on\")\n",
    "    ax1[0].xaxis.set_label_coords(0.5  ,1.30)\n",
    "    ax1[0].set_xticks([0,200,400,600,800,1000])\n",
    "    ax1[0].set_xlabel(r'$n_1$')\n",
    "    #prob2 y-axis parameters\n",
    "    ax1[0].yaxis.set_label_coords(-0.26, 0.5)\n",
    "    ax1[0].set_ylabel(r'$n_0$')\n",
    "    ax1[0].set_yticks([0,200,400,600,800,1000])\n",
    "\n",
    "    \n",
    "    #prob3 x-axis parameters\n",
    "    ax1[1].tick_params(axis='x', which='bottom', length=0)\n",
    "    ax1[1].tick_params(axis='x', labelbottom=\"off\", labeltop=\"on\")\n",
    "    ax1[1].xaxis.set_label_coords(0.5  ,1.30)\n",
    "    ax1[1].set_xticks([0,200,400,600,800,1000])\n",
    "    ax1[1].set_xlabel(r'$n_1$')\n",
    "    #prob3 y-axis parameters\n",
    "    ax1[1].tick_params(axis='y', labelleft=\"off\")\n",
    "    #ax1[1].yaxis.set_label_coords(-0.05, 0.5)\n",
    "    ax1[1].set_yticks([0,200,400,600,800,1000])\n",
    "\n",
    "    ax1[0].annotate(r'$\\mathcal{P}_{n_0,n_1}$', xy=(0.0,0.0), xycoords='data',\n",
    "                xytext=(28,70), textcoords='offset points')#,size=16)\n",
    "    ax1[1].annotate(r'$\\mathcal{P}_{n_0,n_1,n_{-1}=0}$', xy=(0.0,0.0), xycoords='data',\n",
    "                xytext=(28,70), textcoords='offset points',)#size=16)\n",
    "    ax1[0].set_aspect(1)\n",
    "    ax1[1].set_aspect(1)\n",
    "    plt.subplots_adjust(wspace = 0.15)\n",
    "\n",
    "    #plt.savefig('probability.pdf', transparent=False)   \n",
    "    #plt.savefig('probability.svg', transparent=False)    \n",
    "    plt.show()\n"
   ]
  }
 ],
 "metadata": {
  "kernelspec": {
   "display_name": "Python 3",
   "language": "python",
   "name": "python3"
  },
  "language_info": {
   "codemirror_mode": {
    "name": "ipython",
    "version": 3
   },
   "file_extension": ".py",
   "mimetype": "text/x-python",
   "name": "python",
   "nbconvert_exporter": "python",
   "pygments_lexer": "ipython3",
   "version": "3.6.0"
  }
 },
 "nbformat": 4,
 "nbformat_minor": 2
}
